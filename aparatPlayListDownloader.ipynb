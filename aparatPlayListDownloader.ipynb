{
 "cells": [
  {
   "cell_type": "code",
   "execution_count": 1,
   "metadata": {},
   "outputs": [],
   "source": [
    "import requests as req\n",
    "from bs4 import BeautifulSoup as bs"
   ]
  },
  {
   "cell_type": "code",
   "execution_count": 2,
   "metadata": {},
   "outputs": [
    {
     "name": "stdout",
     "output_type": "stream",
     "text": [
      "Quality : \n",
      "(eg: 360, 480, 720)\n",
      "360\n",
      "Main page link:\n",
      "\n"
     ]
    }
   ],
   "source": [
    "quality = input('Quality : \\n(eg: 360, 480, 720)\\n')\n",
    "mainPage = input('Main page link:\\n')\n",
    "mainPage = req.get('https://www.aparat.com/v/vw7Gl').content"
   ]
  },
  {
   "cell_type": "code",
   "execution_count": 29,
   "metadata": {},
   "outputs": [],
   "source": [
    "playlist = bs(mainPage).find_all('div', attrs={'class':'playlist-body'})[0]"
   ]
  },
  {
   "cell_type": "code",
   "execution_count": 30,
   "metadata": {},
   "outputs": [],
   "source": [
    "playListLinks = playlist.find_all('a', attrs={'class':'title'})"
   ]
  },
  {
   "cell_type": "code",
   "execution_count": 31,
   "metadata": {},
   "outputs": [],
   "source": [
    "videoPages = ['https://www.aparat.com'+video.get('href') for video in playListLinks]"
   ]
  },
  {
   "cell_type": "code",
   "execution_count": 37,
   "metadata": {},
   "outputs": [],
   "source": [
    "links = []\n",
    "for page in videoPages :\n",
    "    html = req.get(page).content\n",
    "    soup = bs(html)\n",
    "    qualitys = soup.find_all('div', attrs={'class':'dropdown-content'})[0].find_all('a')\n",
    "    for qual in qualitys :\n",
    "        if quality in qual.get('aria-label'):\n",
    "            links.append(qual.get('href'))"
   ]
  },
  {
   "cell_type": "code",
   "execution_count": 39,
   "metadata": {},
   "outputs": [],
   "source": [
    "with open('downloadList.txt', 'a') as file:\n",
    "    [file.write(link+'\\n') for link in links]"
   ]
  }
 ],
 "metadata": {
  "kernelspec": {
   "display_name": "Python 3",
   "language": "python",
   "name": "python3"
  },
  "language_info": {
   "codemirror_mode": {
    "name": "ipython",
    "version": 3
   },
   "file_extension": ".py",
   "mimetype": "text/x-python",
   "name": "python",
   "nbconvert_exporter": "python",
   "pygments_lexer": "ipython3",
   "version": "3.8.1"
  }
 },
 "nbformat": 4,
 "nbformat_minor": 4
}
